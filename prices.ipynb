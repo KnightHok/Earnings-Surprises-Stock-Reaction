{
 "cells": [
  {
   "cell_type": "code",
   "execution_count": 1,
   "id": "e673a0a3",
   "metadata": {},
   "outputs": [],
   "source": [
    "import pandas as pd\n",
    "import os\n",
    "import glob"
   ]
  },
  {
   "cell_type": "code",
   "execution_count": 2,
   "id": "987b9b01",
   "metadata": {},
   "outputs": [],
   "source": [
    "folder_path = \"./Raw Historical Data\""
   ]
  },
  {
   "cell_type": "code",
   "execution_count": 3,
   "id": "9a302d80",
   "metadata": {},
   "outputs": [],
   "source": [
    "all_files = glob.glob(os.path.join(folder_path, \"*.csv\"))\n",
    "\n",
    "df_list = []"
   ]
  },
  {
   "cell_type": "code",
   "execution_count": 4,
   "id": "343be728",
   "metadata": {},
   "outputs": [],
   "source": [
    "for file in all_files:\n",
    "    # read each csv\n",
    "    df = pd.read_csv(file)\n",
    "\n",
    "    # get filename without extension\n",
    "    file_name = os.path.splitext(os.path.basename(file))[0]\n",
    "\n",
    "    # add filename column\n",
    "    df[\"ticker\"] = file_name\n",
    "\n",
    "    df_list.append(df)"
   ]
  },
  {
   "cell_type": "code",
   "execution_count": 5,
   "id": "71e8cba2",
   "metadata": {},
   "outputs": [],
   "source": [
    "# merge everything into one big DataFrame\n",
    "merged_df = pd.concat(df_list, ignore_index=True)"
   ]
  },
  {
   "cell_type": "code",
   "execution_count": 6,
   "id": "38c670be",
   "metadata": {},
   "outputs": [],
   "source": [
    "# rename columns\n",
    "merged_df = merged_df.rename(columns={\"Close/Last\": \"close\", \"Date\": \"date\"})\n",
    "# remove columns\n",
    "merged_df = merged_df.drop(columns=[\"Volume\", \"Open\", \"High\", \"Low\"])\n",
    "# reorder columns\n",
    "merged_df = merged_df[[\"ticker\", \"date\", \"close\"]]"
   ]
  },
  {
   "cell_type": "code",
   "execution_count": 7,
   "id": "7e99fbad",
   "metadata": {},
   "outputs": [
    {
     "data": {
      "text/html": [
       "<div>\n",
       "<style scoped>\n",
       "    .dataframe tbody tr th:only-of-type {\n",
       "        vertical-align: middle;\n",
       "    }\n",
       "\n",
       "    .dataframe tbody tr th {\n",
       "        vertical-align: top;\n",
       "    }\n",
       "\n",
       "    .dataframe thead th {\n",
       "        text-align: right;\n",
       "    }\n",
       "</style>\n",
       "<table border=\"1\" class=\"dataframe\">\n",
       "  <thead>\n",
       "    <tr style=\"text-align: right;\">\n",
       "      <th></th>\n",
       "      <th>ticker</th>\n",
       "      <th>date</th>\n",
       "      <th>close</th>\n",
       "    </tr>\n",
       "  </thead>\n",
       "  <tbody>\n",
       "    <tr>\n",
       "      <th>0</th>\n",
       "      <td>AAPL</td>\n",
       "      <td>09/08/2025</td>\n",
       "      <td>$237.88</td>\n",
       "    </tr>\n",
       "    <tr>\n",
       "      <th>1</th>\n",
       "      <td>AAPL</td>\n",
       "      <td>09/05/2025</td>\n",
       "      <td>$239.69</td>\n",
       "    </tr>\n",
       "    <tr>\n",
       "      <th>2</th>\n",
       "      <td>AAPL</td>\n",
       "      <td>09/04/2025</td>\n",
       "      <td>$239.78</td>\n",
       "    </tr>\n",
       "    <tr>\n",
       "      <th>3</th>\n",
       "      <td>AAPL</td>\n",
       "      <td>09/03/2025</td>\n",
       "      <td>$238.47</td>\n",
       "    </tr>\n",
       "    <tr>\n",
       "      <th>4</th>\n",
       "      <td>AAPL</td>\n",
       "      <td>09/02/2025</td>\n",
       "      <td>$229.72</td>\n",
       "    </tr>\n",
       "  </tbody>\n",
       "</table>\n",
       "</div>"
      ],
      "text/plain": [
       "  ticker        date    close\n",
       "0   AAPL  09/08/2025  $237.88\n",
       "1   AAPL  09/05/2025  $239.69\n",
       "2   AAPL  09/04/2025  $239.78\n",
       "3   AAPL  09/03/2025  $238.47\n",
       "4   AAPL  09/02/2025  $229.72"
      ]
     },
     "execution_count": 7,
     "metadata": {},
     "output_type": "execute_result"
    }
   ],
   "source": [
    "merged_df.head()"
   ]
  },
  {
   "cell_type": "code",
   "execution_count": 8,
   "id": "b1c57139",
   "metadata": {},
   "outputs": [],
   "source": [
    "# save DataFrame to csv\n",
    "merged_df.to_csv(\"prices.csv\", index=False)"
   ]
  },
  {
   "cell_type": "code",
   "execution_count": null,
   "id": "3f6f48f2",
   "metadata": {},
   "outputs": [],
   "source": []
  }
 ],
 "metadata": {
  "kernelspec": {
   "display_name": "venv",
   "language": "python",
   "name": "python3"
  },
  "language_info": {
   "codemirror_mode": {
    "name": "ipython",
    "version": 3
   },
   "file_extension": ".py",
   "mimetype": "text/x-python",
   "name": "python",
   "nbconvert_exporter": "python",
   "pygments_lexer": "ipython3",
   "version": "3.12.3"
  }
 },
 "nbformat": 4,
 "nbformat_minor": 5
}
