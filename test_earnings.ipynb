{
 "cells": [
  {
   "cell_type": "code",
   "execution_count": 16,
   "id": "38138af6",
   "metadata": {},
   "outputs": [],
   "source": [
    "import os\n",
    "import glob\n",
    "from datetime import datetime, timezone\n",
    "from dateutil import tz\n",
    "\n",
    "import pandas as pd\n",
    "import yfinance as yf\n",
    "import requests\n",
    "import numpy as np\n",
    "\n",
    "ET = tz.gettz(\"American/New_York\")\n"
   ]
  },
  {
   "cell_type": "code",
   "execution_count": 17,
   "id": "db18276c",
   "metadata": {},
   "outputs": [
    {
     "name": "stdout",
     "output_type": "stream",
     "text": [
      "['AAPL', 'AMD', 'AMZN', 'BA', 'BAC', 'CAT', 'GOOGL', 'GS', 'HD', 'JNJ', 'JPM', 'KO', 'META', 'MSFT', 'NFLX', 'NVDA', 'PFE', 'PG', 'SPY', 'TSLA', 'XOM']\n"
     ]
    }
   ],
   "source": [
    "folder_path = \"./Raw Historical Data/.\"\n",
    "\n",
    "# get all tickers\n",
    "all_files = glob.glob(os.path.join(folder_path, \"*.csv\"))\n",
    "\n",
    "tickers = []\n",
    "\n",
    "for file in all_files:\n",
    "    ticker = os.path.splitext(os.path.basename(file))[0]\n",
    "    tickers.append(ticker)\n",
    "\n",
    "print(tickers)"
   ]
  },
  {
   "cell_type": "code",
   "execution_count": 18,
   "id": "7140acef",
   "metadata": {},
   "outputs": [],
   "source": [
    "def to_utc_naive(ts):\n",
    "    \"\"\"accepts pandas/py datetime (tz-aware or not) and returns UTC naive\"\"\"\n",
    "    if ts is None or pd.isna(ts):\n",
    "        return None\n",
    "    ts = pd.to_datetime(ts, utc=True)\n",
    "    return ts.tz_convert(\"UTC\").tz_localize(None)"
   ]
  },
  {
   "cell_type": "code",
   "execution_count": 19,
   "id": "98e9d6b7",
   "metadata": {},
   "outputs": [],
   "source": [
    "def infer_amc_bmo_from_ts(utc_ts):\n",
    "    \"\"\"Classy if BMO/AMC from a UTC timestamp by converting to ET with DST.\"\"\"\n",
    "    if utc_ts is None or pd.isna(utc_ts):\n",
    "        return \"UNKNOWN\"\n",
    "    # Convert to ET\n",
    "    et_ts = utc_ts.replace(tzinfo=timezone.utc).astimezone(ET)\n",
    "    hhmm = et_ts.hour * 60 + et_ts.minute\n",
    "\n",
    "    if hhmm < 570:\n",
    "        return \"BMO\"\n",
    "    elif hhmm >= 960:\n",
    "        return \"AMC\"\n",
    "    else:\n",
    "        return \"INTRADAY\"\n",
    "    "
   ]
  },
  {
   "cell_type": "code",
   "execution_count": 20,
   "id": "75f218c1",
   "metadata": {},
   "outputs": [],
   "source": [
    "def surprise_pct(actual, est):\n",
    "    if pd.isna(actual) or pd.isna(est) or est == 0:\n",
    "        return np.nan\n",
    "    return (actual - est) / abs(est)"
   ]
  },
  {
   "cell_type": "code",
   "execution_count": 21,
   "id": "b640cc70",
   "metadata": {},
   "outputs": [],
   "source": [
    "def et_calendar_date(utc_ts):\n",
    "    \"\"\"Date the market would consider 'that earnings day in ET'\"\"\"\n",
    "    if utc_ts is None or pd.isna(utc_ts):\n",
    "        return pd.NaT\n",
    "    et_ts = utc_ts.replace(tzinfo=timezone.utc).astimezone(ET)\n",
    "    return pd.Timestamp(et_ts.date())"
   ]
  },
  {
   "cell_type": "code",
   "execution_count": 29,
   "id": "6c576862",
   "metadata": {},
   "outputs": [],
   "source": [
    "def add_eps_surprise(df):\n",
    "    df[\"eps_surprise_pct\"] = np.where(\n",
    "        (df[\"eps_consensus\"].notna()) & (df[\"eps_consensus\"] != 0),\n",
    "        (df[\"eps_actual\"] - df[\"eps_consensus\"]) / df[\"eps_consensus\"].abs(),\n",
    "        np.nan\n",
    "    )\n",
    "    return df"
   ]
  },
  {
   "cell_type": "code",
   "execution_count": 23,
   "id": "a8391a1e",
   "metadata": {},
   "outputs": [],
   "source": [
    "def fetch_yf_events(tickers, limit=24):\n",
    "    records = []\n",
    "    for t in tickers:\n",
    "        try:\n",
    "            df = yf.Ticker(t).get_earnings_dates(limit=limit)\n",
    "            if df is None or df.empty:\n",
    "                continue\n",
    "            df = df.reset_index()\n",
    "            df[\"ticker\"] = t\n",
    "\n",
    "            # Drop rows that are not Earnings\n",
    "            if \"Event Type\" in df.columns:\n",
    "                df = df[df[\"Event Type\"].str.contains(\"Earnings\", case=False, na=False)]\n",
    "\n",
    "            df.rename(columns={\n",
    "                \"Earnings Date\":\"report_ts\",\n",
    "                \"Reported EPS\":\"eps_actual\",\n",
    "                \"EPS Estimate\":\"eps_consensus\"\n",
    "            }, inplace=True)\n",
    "            # Normalize report_ts to UTC naive\n",
    "            df[\"report_ts\"] = pd.to_datetime(df[\"report_ts\"], utc=True).dt.tz_convert(\"UTC\").dt.tz_localize(None)\n",
    "\n",
    "            # Apply amc_bmo classification\n",
    "            df[\"amc_bmo\"] = df[\"report_ts\"].apply(infer_amc_bmo_from_ts)\n",
    "            \n",
    "            records.append(df[[\"ticker\",\"report_ts\", \"amc_bmo\", \"eps_actual\",\"eps_consensus\"]])\n",
    "        except Exception as e:\n",
    "            print(f\"Failed {t}: {e}\")\n",
    "    return pd.concat(records, ignore_index=True if records else pd.DataFrame())\n",
    "\n",
    "        "
   ]
  },
  {
   "cell_type": "code",
   "execution_count": 24,
   "id": "987346a3",
   "metadata": {},
   "outputs": [],
   "source": [
    "def fetch_nasdaq(tickers):\n",
    "    records = []\n",
    "    headers = {\"User-Agent\": \"Mozilla/5.0\"}\n",
    "    for t in tickers:\n",
    "        try:\n",
    "            url = f\"https://api.nasdaq.com/api/company/{t}/earnings-surprise\"\n",
    "            r = requests.get(url, headers=headers, timeout=10)\n",
    "            data = r.json()\n",
    "            if not data or \"data\" not in data:\n",
    "                continue\n",
    "            table = data[\"data\"].get(\"earningsSurpriseTable\", {}).get(\"rows\", [])\n",
    "            for record in table:\n",
    "                records.append({\n",
    "                    \"ticker\": t,\n",
    "                    \"report_ts\": record.get(\"dateReported\"),  # usually \"YYYY-MM-DD\"\n",
    "                    \"eps_actual\": record.get(\"eps\"),\n",
    "                    \"eps_consensus\": record.get(\"consensusForecast\"),\n",
    "                    \"amc_bmo\": \"UNKNOWN\"\n",
    "                })\n",
    "        except Exception as e:\n",
    "            print(f\"Failed {t}: {e}\")\n",
    "    \n",
    "    return pd.DataFrame(records)"
   ]
  },
  {
   "cell_type": "code",
   "execution_count": 39,
   "id": "90f27b6c",
   "metadata": {},
   "outputs": [],
   "source": [
    "def merge_events(yf_df, nz_df):\n",
    "    # Make sure both have the same column set\n",
    "    common_cols = [\"ticker\",\"report_ts\",\"amc_bmo\",\"eps_actual\",\"eps_consensus\"]\n",
    "    yf = yf_df[common_cols].copy()\n",
    "    nz = nz_df[common_cols].copy()\n",
    "\n",
    "    # Concat with yfinance first\n",
    "    merged = pd.concat([yf, nz], ignore_index=True)\n",
    "\n",
    "    # Drop duplicates, keep first\n",
    "    merged = merged.sort_values([\"ticker\", \"report_ts\"], kind=\"mergesort\")\n",
    "    merged = merged.drop_duplicates(subset=[\"ticker\", \"report_ts\"], keep=\"first\")\n",
    "\n",
    "    # sort for readability\n",
    "    merged = merged.sort_values([\"ticker\", \"report_ts\"]).reset_index(drop=True)\n",
    "\n",
    "    # Make sure everything is the right type\n",
    "\n",
    "    merged = merged.astype({\n",
    "        \"ticker\": \"string\",\n",
    "        \"report_ts\": \"string\",\n",
    "        \"amc_bmo\": \"category\",\n",
    "        \"eps_actual\": float,\n",
    "        \"eps_consensus\": float\n",
    "    })\n",
    "\n",
    "    # clean\n",
    "    merged = merged.dropna(subset=[\"eps_actual\", \"eps_consensus\"]).reset_index(drop=True)\n",
    "\n",
    "    return merged"
   ]
  },
  {
   "cell_type": "code",
   "execution_count": 40,
   "id": "25f2cbf6",
   "metadata": {},
   "outputs": [
    {
     "name": "stdout",
     "output_type": "stream",
     "text": [
      "Failed SPY: 'NoneType' object has no attribute 'get'\n"
     ]
    },
    {
     "data": {
      "text/html": [
       "<div>\n",
       "<style scoped>\n",
       "    .dataframe tbody tr th:only-of-type {\n",
       "        vertical-align: middle;\n",
       "    }\n",
       "\n",
       "    .dataframe tbody tr th {\n",
       "        vertical-align: top;\n",
       "    }\n",
       "\n",
       "    .dataframe thead th {\n",
       "        text-align: right;\n",
       "    }\n",
       "</style>\n",
       "<table border=\"1\" class=\"dataframe\">\n",
       "  <thead>\n",
       "    <tr style=\"text-align: right;\">\n",
       "      <th></th>\n",
       "      <th>ticker</th>\n",
       "      <th>report_ts</th>\n",
       "      <th>eps_actual</th>\n",
       "      <th>eps_consensus</th>\n",
       "      <th>amc_bmo</th>\n",
       "    </tr>\n",
       "  </thead>\n",
       "  <tbody>\n",
       "    <tr>\n",
       "      <th>0</th>\n",
       "      <td>AAPL</td>\n",
       "      <td>7/31/2025</td>\n",
       "      <td>1.57</td>\n",
       "      <td>1.42</td>\n",
       "      <td>UNKNOWN</td>\n",
       "    </tr>\n",
       "    <tr>\n",
       "      <th>1</th>\n",
       "      <td>AAPL</td>\n",
       "      <td>5/1/2025</td>\n",
       "      <td>1.65</td>\n",
       "      <td>1.61</td>\n",
       "      <td>UNKNOWN</td>\n",
       "    </tr>\n",
       "    <tr>\n",
       "      <th>2</th>\n",
       "      <td>AAPL</td>\n",
       "      <td>1/30/2025</td>\n",
       "      <td>2.40</td>\n",
       "      <td>2.36</td>\n",
       "      <td>UNKNOWN</td>\n",
       "    </tr>\n",
       "    <tr>\n",
       "      <th>3</th>\n",
       "      <td>AAPL</td>\n",
       "      <td>10/31/2024</td>\n",
       "      <td>1.64</td>\n",
       "      <td>1.49</td>\n",
       "      <td>UNKNOWN</td>\n",
       "    </tr>\n",
       "    <tr>\n",
       "      <th>4</th>\n",
       "      <td>AMD</td>\n",
       "      <td>8/5/2025</td>\n",
       "      <td>0.27</td>\n",
       "      <td>0.28</td>\n",
       "      <td>UNKNOWN</td>\n",
       "    </tr>\n",
       "  </tbody>\n",
       "</table>\n",
       "</div>"
      ],
      "text/plain": [
       "  ticker   report_ts  eps_actual eps_consensus  amc_bmo\n",
       "0   AAPL   7/31/2025        1.57          1.42  UNKNOWN\n",
       "1   AAPL    5/1/2025        1.65          1.61  UNKNOWN\n",
       "2   AAPL   1/30/2025        2.40          2.36  UNKNOWN\n",
       "3   AAPL  10/31/2024        1.64          1.49  UNKNOWN\n",
       "4    AMD    8/5/2025        0.27          0.28  UNKNOWN"
      ]
     },
     "execution_count": 40,
     "metadata": {},
     "output_type": "execute_result"
    }
   ],
   "source": [
    "test_df = fetch_nasdaq(tickers=tickers)\n",
    "test_df.head()"
   ]
  },
  {
   "cell_type": "code",
   "execution_count": 45,
   "id": "b90c6b6a",
   "metadata": {},
   "outputs": [
    {
     "data": {
      "text/html": [
       "<div>\n",
       "<style scoped>\n",
       "    .dataframe tbody tr th:only-of-type {\n",
       "        vertical-align: middle;\n",
       "    }\n",
       "\n",
       "    .dataframe tbody tr th {\n",
       "        vertical-align: top;\n",
       "    }\n",
       "\n",
       "    .dataframe thead th {\n",
       "        text-align: right;\n",
       "    }\n",
       "</style>\n",
       "<table border=\"1\" class=\"dataframe\">\n",
       "  <thead>\n",
       "    <tr style=\"text-align: right;\">\n",
       "      <th></th>\n",
       "      <th>ticker</th>\n",
       "      <th>report_ts</th>\n",
       "      <th>amc_bmo</th>\n",
       "      <th>eps_actual</th>\n",
       "      <th>eps_consensus</th>\n",
       "    </tr>\n",
       "  </thead>\n",
       "  <tbody>\n",
       "    <tr>\n",
       "      <th>0</th>\n",
       "      <td>AAPL</td>\n",
       "      <td>2025-05-01 20:30:00</td>\n",
       "      <td>AMC</td>\n",
       "      <td>1.65</td>\n",
       "      <td>1.63</td>\n",
       "    </tr>\n",
       "    <tr>\n",
       "      <th>1</th>\n",
       "      <td>AAPL</td>\n",
       "      <td>2025-01-30 21:31:00</td>\n",
       "      <td>AMC</td>\n",
       "      <td>2.40</td>\n",
       "      <td>2.35</td>\n",
       "    </tr>\n",
       "    <tr>\n",
       "      <th>2</th>\n",
       "      <td>AAPL</td>\n",
       "      <td>2024-10-31 20:31:00</td>\n",
       "      <td>AMC</td>\n",
       "      <td>1.64</td>\n",
       "      <td>1.60</td>\n",
       "    </tr>\n",
       "    <tr>\n",
       "      <th>3</th>\n",
       "      <td>AAPL</td>\n",
       "      <td>2024-08-01 20:30:00</td>\n",
       "      <td>AMC</td>\n",
       "      <td>1.40</td>\n",
       "      <td>1.35</td>\n",
       "    </tr>\n",
       "    <tr>\n",
       "      <th>4</th>\n",
       "      <td>AAPL</td>\n",
       "      <td>2024-05-02 20:31:00</td>\n",
       "      <td>AMC</td>\n",
       "      <td>1.53</td>\n",
       "      <td>1.50</td>\n",
       "    </tr>\n",
       "  </tbody>\n",
       "</table>\n",
       "</div>"
      ],
      "text/plain": [
       "  ticker           report_ts amc_bmo  eps_actual  eps_consensus\n",
       "0   AAPL 2025-05-01 20:30:00     AMC        1.65           1.63\n",
       "1   AAPL 2025-01-30 21:31:00     AMC        2.40           2.35\n",
       "2   AAPL 2024-10-31 20:31:00     AMC        1.64           1.60\n",
       "3   AAPL 2024-08-01 20:30:00     AMC        1.40           1.35\n",
       "4   AAPL 2024-05-02 20:31:00     AMC        1.53           1.50"
      ]
     },
     "execution_count": 45,
     "metadata": {},
     "output_type": "execute_result"
    }
   ],
   "source": [
    "test2_df = fetch_yf_events(tickers=tickers, limit=50)\n",
    "test2_df.head()"
   ]
  },
  {
   "cell_type": "code",
   "execution_count": 46,
   "id": "0a1442be",
   "metadata": {},
   "outputs": [
    {
     "name": "stdout",
     "output_type": "stream",
     "text": [
      "  ticker            report_ts amc_bmo  eps_actual  eps_consensus  \\\n",
      "0   AAPL  2013-04-23 04:00:00     BMO        0.36           0.36   \n",
      "1   AAPL  2013-07-23 04:00:00     BMO        0.27           0.26   \n",
      "2   AAPL  2013-10-28 04:00:00     BMO        0.30           0.28   \n",
      "3   AAPL  2014-01-27 05:00:00     BMO        0.52           0.50   \n",
      "4   AAPL  2014-04-23 04:00:00     BMO        0.42           0.36   \n",
      "\n",
      "   eps_surprise_pct  \n",
      "0          0.000000  \n",
      "1          0.038462  \n",
      "2          0.071429  \n",
      "3          0.040000  \n",
      "4          0.166667  \n",
      "<class 'pandas.core.frame.DataFrame'>\n",
      "RangeIndex: 1029 entries, 0 to 1028\n",
      "Data columns (total 6 columns):\n",
      " #   Column            Non-Null Count  Dtype   \n",
      "---  ------            --------------  -----   \n",
      " 0   ticker            1029 non-null   string  \n",
      " 1   report_ts         1029 non-null   string  \n",
      " 2   amc_bmo           1029 non-null   category\n",
      " 3   eps_actual        1029 non-null   float64 \n",
      " 4   eps_consensus     1029 non-null   float64 \n",
      " 5   eps_surprise_pct  1029 non-null   float64 \n",
      "dtypes: category(1), float64(3), string(2)\n",
      "memory usage: 41.5 KB\n",
      "None\n"
     ]
    }
   ],
   "source": [
    "test3 = merge_events(test2_df, test_df)\n",
    "test3 = add_eps_surprise(test3)\n",
    "print(test3.head())\n",
    "\n",
    "print(test3.info())\n",
    "test3.to_csv(\"events.csv\")"
   ]
  },
  {
   "cell_type": "code",
   "execution_count": 43,
   "id": "ffc52f91",
   "metadata": {},
   "outputs": [
    {
     "name": "stdout",
     "output_type": "stream",
     "text": [
      "Empty DataFrame\n",
      "Columns: [ticker, report_ts, amc_bmo, eps_actual, eps_consensus, eps_surprise_pct]\n",
      "Index: []\n"
     ]
    }
   ],
   "source": [
    "null_rows =test3[test3[\"eps_consensus\"].isna()]\n",
    "print(null_rows)"
   ]
  },
  {
   "cell_type": "code",
   "execution_count": null,
   "id": "968e4a7f",
   "metadata": {},
   "outputs": [],
   "source": []
  }
 ],
 "metadata": {
  "kernelspec": {
   "display_name": "venv",
   "language": "python",
   "name": "python3"
  },
  "language_info": {
   "codemirror_mode": {
    "name": "ipython",
    "version": 3
   },
   "file_extension": ".py",
   "mimetype": "text/x-python",
   "name": "python",
   "nbconvert_exporter": "python",
   "pygments_lexer": "ipython3",
   "version": "3.12.3"
  }
 },
 "nbformat": 4,
 "nbformat_minor": 5
}
