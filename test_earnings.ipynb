{
 "cells": [
  {
   "cell_type": "code",
   "execution_count": 1,
   "id": "38138af6",
   "metadata": {},
   "outputs": [],
   "source": [
    "import os\n",
    "import glob\n",
    "from datetime import datetime, timezone\n",
    "from dateutil import tz\n",
    "\n",
    "import pandas as pd\n",
    "import yfinance as yf\n",
    "import requests\n",
    "import numpy as np\n",
    "\n",
    "ET = tz.gettz(\"American/New_York\")\n"
   ]
  },
  {
   "cell_type": "code",
   "execution_count": 2,
   "id": "db18276c",
   "metadata": {},
   "outputs": [
    {
     "name": "stdout",
     "output_type": "stream",
     "text": [
      "['AAPL', 'AMD', 'AMZN', 'BA', 'BAC', 'CAT', 'GOOGL', 'GS', 'HD', 'JNJ', 'JPM', 'KO', 'META', 'MSFT', 'NFLX', 'NVDA', 'PFE', 'PG', 'SPY', 'TSLA', 'XOM']\n"
     ]
    }
   ],
   "source": [
    "folder_path = \"./Raw Historical Data/.\"\n",
    "\n",
    "# get all tickers\n",
    "all_files = glob.glob(os.path.join(folder_path, \"*.csv\"))\n",
    "\n",
    "tickers = []\n",
    "\n",
    "for file in all_files:\n",
    "    ticker = os.path.splitext(os.path.basename(file))[0]\n",
    "    tickers.append(ticker)\n",
    "\n",
    "print(tickers)"
   ]
  },
  {
   "cell_type": "code",
   "execution_count": 3,
   "id": "7140acef",
   "metadata": {},
   "outputs": [],
   "source": [
    "def to_utc_naive(ts):\n",
    "    \"\"\"accepts pandas/py datetime (tz-aware or not) and returns UTC naive\"\"\"\n",
    "    if ts is None or pd.isna(ts):\n",
    "        return None\n",
    "    ts = pd.to_datetime(ts, utc=True)\n",
    "    return ts.tz_convert(\"UTC\").tz_localize(None)"
   ]
  },
  {
   "cell_type": "code",
   "execution_count": 4,
   "id": "98e9d6b7",
   "metadata": {},
   "outputs": [],
   "source": [
    "def infer_amc_bmo_from_ts(utc_ts):\n",
    "    \"\"\"Classy if BMO/AMC from a UTC timestamp by converting to ET with DST.\"\"\"\n",
    "    if utc_ts is None or pd.isna(utc_ts):\n",
    "        return \"UNKNOWN\"\n",
    "    # Convert to ET\n",
    "    et_ts = utc_ts.replace(tzinfo=timezone.utc).astimezone(ET)\n",
    "    hhmm = et_ts.hour * 60 + et_ts.minute\n",
    "\n",
    "    if hhmm < 570:\n",
    "        return \"BMO\"\n",
    "    elif hhmm >= 960:\n",
    "        return \"AMC\"\n",
    "    else:\n",
    "        return \"INTRADAY\"\n",
    "    "
   ]
  },
  {
   "cell_type": "code",
   "execution_count": 5,
   "id": "75f218c1",
   "metadata": {},
   "outputs": [],
   "source": [
    "def surprise_pct(actual, est):\n",
    "    if pd.isna(actual) or pd.isna(est) or est == 0:\n",
    "        return np.nan\n",
    "    return (actual - est) / abs(est)"
   ]
  },
  {
   "cell_type": "code",
   "execution_count": 6,
   "id": "b640cc70",
   "metadata": {},
   "outputs": [],
   "source": [
    "def et_calendar_date(utc_ts):\n",
    "    \"\"\"Date the market would consider 'that earnings day in ET'\"\"\"\n",
    "    if utc_ts is None or pd.isna(utc_ts):\n",
    "        return pd.NaT\n",
    "    et_ts = utc_ts.replace(tzinfo=timezone.utc).astimezone(ET)\n",
    "    return pd.Timestamp(et_ts.date())"
   ]
  },
  {
   "cell_type": "code",
   "execution_count": 19,
   "id": "a8391a1e",
   "metadata": {},
   "outputs": [],
   "source": [
    "def fetch_yf_events(tickers, limit=24):\n",
    "    records = []\n",
    "    for t in tickers:\n",
    "        try:\n",
    "            df = yf.Ticker(t).get_earnings_dates(limit=limit)\n",
    "            if df is None or df.empty:\n",
    "                continue\n",
    "            df = df.reset_index()\n",
    "            df[\"ticker\"] = t\n",
    "\n",
    "            # Drop rows that are not Earnings\n",
    "            if \"Event Type\" in df.columns:\n",
    "                df = df[df[\"Event Type\"].str.contains(\"Earnings\", case=False, na=False)]\n",
    "\n",
    "            df.rename(columns={\n",
    "                \"Earnings Date\":\"report_ts\",\n",
    "                \"Reported EPS\":\"eps_actual\",\n",
    "                \"EPS Estimate\":\"eps_consensus\"\n",
    "            }, inplace=True)\n",
    "            # Normalize report_ts to UTC naive\n",
    "            df[\"report_ts\"] = pd.to_datetime(df[\"report_ts\"], utc=True).dt.tz_convert(\"UTC\").dt.tz_localize(None)\n",
    "\n",
    "            # Apply amc_bmo classification\n",
    "            df[\"amc_bmo\"] = df[\"report_ts\"].apply(infer_amc_bmo_from_ts)\n",
    "            \n",
    "            records.append(df[[\"ticker\",\"report_ts\", \"amc_bmo\", \"eps_actual\",\"eps_consensus\"]])\n",
    "        except Exception as e:\n",
    "            print(f\"Failed {t}: {e}\")\n",
    "    return pd.concat(records, ignore_index=True if records else pd.DataFrame())\n",
    "\n",
    "        "
   ]
  },
  {
   "cell_type": "code",
   "execution_count": 12,
   "id": "987346a3",
   "metadata": {},
   "outputs": [],
   "source": [
    "def fetch_nasdaq(tickers):\n",
    "    records = []\n",
    "    headers = {\"User-Agent\": \"Mozilla/5.0\"}\n",
    "    for t in tickers:\n",
    "        try:\n",
    "            url = f\"https://api.nasdaq.com/api/company/{t}/earnings-surprise\"\n",
    "            r = requests.get(url, headers=headers, timeout=10)\n",
    "            data = r.json()\n",
    "            if not data or \"data\" not in data:\n",
    "                continue\n",
    "            table = data[\"data\"].get(\"earningsSurpriseTable\", {}).get(\"rows\", [])\n",
    "            for record in table:\n",
    "                records.append({\n",
    "                    \"ticker\": t,\n",
    "                    \"report_ts\": record.get(\"dateReported\"),  # usually \"YYYY-MM-DD\"\n",
    "                    \"eps_actual\": record.get(\"eps\"),\n",
    "                    \"eps_consensus\": record.get(\"consensusForecast\"),\n",
    "                    \"amc_bmo\": \"UNKNOWN\"\n",
    "                })\n",
    "        except Exception as e:\n",
    "            print(f\"Failed {t}: {e}\")\n",
    "    \n",
    "    return pd.DataFrame(records)"
   ]
  },
  {
   "cell_type": "code",
   "execution_count": 21,
   "id": "90f27b6c",
   "metadata": {},
   "outputs": [],
   "source": [
    "def merge_events(yf_df, nz_df):\n",
    "    # Make sure both have the same column set\n",
    "    common_cols = [\"ticker\",\"report_ts\",\"amc_bmo\",\"eps_actual\",\"eps_consensus\"]\n",
    "    yf = yf_df[common_cols].copy()\n",
    "    nz = nz_df[common_cols].copy()\n",
    "\n",
    "    # Concat with yfinance first\n",
    "    merged = pd.concat([yf, nz], ignore_index=True)\n",
    "\n",
    "    # Drop duplicates, keep first\n",
    "    merged = merged.sort_values([\"ticker\", \"report_ts\"], kind=\"mergesort\")\n",
    "    merged = merged.drop_duplicates(subset=[\"ticker\", \"report_ts\"], keep=\"first\")\n",
    "\n",
    "    # sort for readability\n",
    "    merged = merged.sort_values([\"ticker\", \"report_ts\"]).reset_index(drop=True)\n",
    "\n",
    "    return merged"
   ]
  },
  {
   "cell_type": "code",
   "execution_count": null,
   "id": "25f2cbf6",
   "metadata": {},
   "outputs": [
    {
     "name": "stdout",
     "output_type": "stream",
     "text": [
      "Failed SPY: 'NoneType' object has no attribute 'get'\n"
     ]
    },
    {
     "data": {
      "text/html": [
       "<div>\n",
       "<style scoped>\n",
       "    .dataframe tbody tr th:only-of-type {\n",
       "        vertical-align: middle;\n",
       "    }\n",
       "\n",
       "    .dataframe tbody tr th {\n",
       "        vertical-align: top;\n",
       "    }\n",
       "\n",
       "    .dataframe thead th {\n",
       "        text-align: right;\n",
       "    }\n",
       "</style>\n",
       "<table border=\"1\" class=\"dataframe\">\n",
       "  <thead>\n",
       "    <tr style=\"text-align: right;\">\n",
       "      <th></th>\n",
       "      <th>ticker</th>\n",
       "      <th>report_ts</th>\n",
       "      <th>eps_actual</th>\n",
       "      <th>eps_consensus</th>\n",
       "      <th>amc_bmo</th>\n",
       "    </tr>\n",
       "  </thead>\n",
       "  <tbody>\n",
       "    <tr>\n",
       "      <th>0</th>\n",
       "      <td>AAPL</td>\n",
       "      <td>7/31/2025</td>\n",
       "      <td>1.57</td>\n",
       "      <td>1.42</td>\n",
       "      <td>UNKNOWN</td>\n",
       "    </tr>\n",
       "    <tr>\n",
       "      <th>1</th>\n",
       "      <td>AAPL</td>\n",
       "      <td>5/1/2025</td>\n",
       "      <td>1.65</td>\n",
       "      <td>1.61</td>\n",
       "      <td>UNKNOWN</td>\n",
       "    </tr>\n",
       "    <tr>\n",
       "      <th>2</th>\n",
       "      <td>AAPL</td>\n",
       "      <td>1/30/2025</td>\n",
       "      <td>2.40</td>\n",
       "      <td>2.36</td>\n",
       "      <td>UNKNOWN</td>\n",
       "    </tr>\n",
       "    <tr>\n",
       "      <th>3</th>\n",
       "      <td>AAPL</td>\n",
       "      <td>10/31/2024</td>\n",
       "      <td>1.64</td>\n",
       "      <td>1.49</td>\n",
       "      <td>UNKNOWN</td>\n",
       "    </tr>\n",
       "    <tr>\n",
       "      <th>4</th>\n",
       "      <td>AMD</td>\n",
       "      <td>8/5/2025</td>\n",
       "      <td>0.27</td>\n",
       "      <td>0.28</td>\n",
       "      <td>UNKNOWN</td>\n",
       "    </tr>\n",
       "  </tbody>\n",
       "</table>\n",
       "</div>"
      ],
      "text/plain": [
       "  ticker   report_ts  eps_actual eps_consensus  amc_bmo\n",
       "0   AAPL   7/31/2025        1.57          1.42  UNKNOWN\n",
       "1   AAPL    5/1/2025        1.65          1.61  UNKNOWN\n",
       "2   AAPL   1/30/2025        2.40          2.36  UNKNOWN\n",
       "3   AAPL  10/31/2024        1.64          1.49  UNKNOWN\n",
       "4    AMD    8/5/2025        0.27          0.28  UNKNOWN"
      ]
     },
     "execution_count": 13,
     "metadata": {},
     "output_type": "execute_result"
    }
   ],
   "source": [
    "test_df = fetch_nasdaq(tickers=tickers)\n",
    "test_df.head()"
   ]
  },
  {
   "cell_type": "code",
   "execution_count": 28,
   "id": "b90c6b6a",
   "metadata": {},
   "outputs": [
    {
     "data": {
      "text/html": [
       "<div>\n",
       "<style scoped>\n",
       "    .dataframe tbody tr th:only-of-type {\n",
       "        vertical-align: middle;\n",
       "    }\n",
       "\n",
       "    .dataframe tbody tr th {\n",
       "        vertical-align: top;\n",
       "    }\n",
       "\n",
       "    .dataframe thead th {\n",
       "        text-align: right;\n",
       "    }\n",
       "</style>\n",
       "<table border=\"1\" class=\"dataframe\">\n",
       "  <thead>\n",
       "    <tr style=\"text-align: right;\">\n",
       "      <th></th>\n",
       "      <th>ticker</th>\n",
       "      <th>report_ts</th>\n",
       "      <th>amc_bmo</th>\n",
       "      <th>eps_actual</th>\n",
       "      <th>eps_consensus</th>\n",
       "    </tr>\n",
       "  </thead>\n",
       "  <tbody>\n",
       "    <tr>\n",
       "      <th>0</th>\n",
       "      <td>AAPL</td>\n",
       "      <td>2025-05-01 20:30:00</td>\n",
       "      <td>AMC</td>\n",
       "      <td>1.65</td>\n",
       "      <td>1.63</td>\n",
       "    </tr>\n",
       "    <tr>\n",
       "      <th>1</th>\n",
       "      <td>AAPL</td>\n",
       "      <td>2025-01-30 21:31:00</td>\n",
       "      <td>AMC</td>\n",
       "      <td>2.40</td>\n",
       "      <td>2.35</td>\n",
       "    </tr>\n",
       "    <tr>\n",
       "      <th>2</th>\n",
       "      <td>AAPL</td>\n",
       "      <td>2024-10-31 20:31:00</td>\n",
       "      <td>AMC</td>\n",
       "      <td>1.64</td>\n",
       "      <td>1.60</td>\n",
       "    </tr>\n",
       "    <tr>\n",
       "      <th>3</th>\n",
       "      <td>AAPL</td>\n",
       "      <td>2024-08-01 20:30:00</td>\n",
       "      <td>AMC</td>\n",
       "      <td>1.40</td>\n",
       "      <td>1.35</td>\n",
       "    </tr>\n",
       "    <tr>\n",
       "      <th>4</th>\n",
       "      <td>AAPL</td>\n",
       "      <td>2024-05-02 20:31:00</td>\n",
       "      <td>AMC</td>\n",
       "      <td>1.53</td>\n",
       "      <td>1.50</td>\n",
       "    </tr>\n",
       "  </tbody>\n",
       "</table>\n",
       "</div>"
      ],
      "text/plain": [
       "  ticker           report_ts amc_bmo  eps_actual  eps_consensus\n",
       "0   AAPL 2025-05-01 20:30:00     AMC        1.65           1.63\n",
       "1   AAPL 2025-01-30 21:31:00     AMC        2.40           2.35\n",
       "2   AAPL 2024-10-31 20:31:00     AMC        1.64           1.60\n",
       "3   AAPL 2024-08-01 20:30:00     AMC        1.40           1.35\n",
       "4   AAPL 2024-05-02 20:31:00     AMC        1.53           1.50"
      ]
     },
     "execution_count": 28,
     "metadata": {},
     "output_type": "execute_result"
    }
   ],
   "source": [
    "test2_df = fetch_yf_events(tickers=tickers, limit=40)\n",
    "test2_df.head()"
   ]
  },
  {
   "cell_type": "code",
   "execution_count": 29,
   "id": "0a1442be",
   "metadata": {},
   "outputs": [
    {
     "data": {
      "text/plain": [
       "<bound method DataFrame.count of     ticker            report_ts   amc_bmo  eps_actual eps_consensus\n",
       "0     AAPL  2015-10-27 20:30:00       AMC        0.49          0.47\n",
       "1     AAPL  2016-01-26 21:28:00       AMC        0.82          0.81\n",
       "2     AAPL  2016-04-26 20:30:00       AMC        0.48           0.5\n",
       "3     AAPL  2016-07-26 20:30:00       AMC        0.36          0.35\n",
       "4     AAPL  2016-10-25 20:30:00       AMC        0.42          0.41\n",
       "..     ...                  ...       ...         ...           ...\n",
       "850    XOM  2025-05-02 10:30:00  INTRADAY        1.76          1.73\n",
       "851    XOM            1/31/2025   UNKNOWN        1.67          1.55\n",
       "852    XOM            11/1/2024   UNKNOWN        1.92          1.91\n",
       "853    XOM             5/2/2025   UNKNOWN        1.76          1.74\n",
       "854    XOM             8/1/2025   UNKNOWN        1.64          1.49\n",
       "\n",
       "[855 rows x 5 columns]>"
      ]
     },
     "execution_count": 29,
     "metadata": {},
     "output_type": "execute_result"
    }
   ],
   "source": [
    "test3 = merge_events(test2_df, test_df)\n",
    "test3.count"
   ]
  },
  {
   "cell_type": "code",
   "execution_count": 23,
   "id": "6590ca5c",
   "metadata": {},
   "outputs": [
    {
     "name": "stdout",
     "output_type": "stream",
     "text": [
      "                  report_ts  eps_consensus  eps_actual  Surprise(%) Event Type\n",
      "0 2025-05-01 16:30:00-04:00           1.63        1.65         1.41   Earnings\n",
      "1 2025-02-27 12:00:00-05:00            NaN         NaN          NaN    Meeting\n",
      "2 2025-01-30 16:31:00-05:00           2.35        2.40         2.15   Earnings\n",
      "3 2024-10-31 16:31:00-04:00           1.60        1.64         2.35   Earnings\n",
      "4 2024-08-01 16:30:00-04:00           1.35        1.40         3.99   Earnings\n",
      "  fiscalQtrEnd dateReported   eps consensusForecast percentageSurprise\n",
      "0     Jun 2025    7/31/2025  1.57              1.42              10.56\n",
      "1     Mar 2025     5/1/2025  1.65              1.61               2.48\n",
      "2     Dec 2024    1/30/2025  2.40              2.36               1.69\n",
      "3     Sep 2024   10/31/2024  1.64              1.49              10.07\n"
     ]
    }
   ],
   "source": [
    "# Yahoo EPS\n",
    "\n",
    "ticker = \"AAPL\"\n",
    "# def get_earnings_data(ticker):\n",
    "    # yahoo EPS\n",
    "tkr = yf.Ticker(ticker)\n",
    "eps_df = tkr.get_earnings_dates(limit=200).reset_index()\n",
    "eps_df.rename(columns={\n",
    "    \"Earnings Date\": \"report_ts\",\n",
    "    \"Reported EPS\": \"eps_actual\",\n",
    "    \"EPS Estimate\": \"eps_consensus\"\n",
    "}, inplace=True)\n",
    "\n",
    "print(eps_df.head())\n",
    "\n",
    "# Nasdaq EPS + Rev\n",
    "url = f\"https://api.nasdaq.com/api/company/{ticker}/earnings-surprise\"\n",
    "headers = {\"User-Agent\": \"Mozilla/5.0\"}\n",
    "r = requests.get(url, headers=headers).json()\n",
    "rows = (r or {}).get(\"data\", {}).get(\"earningsSurpriseTable\", {}).get(\"rows\", []) or []\n",
    "rev_df = pd.DataFrame(rows)\n",
    "if not rev_df.empty:\n",
    "    rev_df = rev_df.rename(columns={\n",
    "        \"reportDate\": \"report_ts\",\n",
    "        \"epsActual\": \"eps_actual\",\n",
    "        \"epsConsensus\": \"eps_consensus\"\n",
    "    })\n",
    "    # rev_df[\"report_ts\"] = pd.to_datetime(rev_df[\"report_ts\"], errors=\"coerce\")\n",
    "    # rev_df[\"report_date\"] = rev_df[\"report_ts\"].dt.date\n",
    "else:\n",
    "    rev_df = pd.DataFrame(columns=[\"report_date\",\"report_ts\",\"rev_actual\",\"rev_consensus\"])\n",
    "print(rev_df.head())"
   ]
  },
  {
   "cell_type": "code",
   "execution_count": null,
   "id": "310f37d2",
   "metadata": {},
   "outputs": [],
   "source": []
  },
  {
   "cell_type": "code",
   "execution_count": null,
   "id": "c231baca",
   "metadata": {},
   "outputs": [],
   "source": []
  }
 ],
 "metadata": {
  "kernelspec": {
   "display_name": "venv",
   "language": "python",
   "name": "python3"
  },
  "language_info": {
   "codemirror_mode": {
    "name": "ipython",
    "version": 3
   },
   "file_extension": ".py",
   "mimetype": "text/x-python",
   "name": "python",
   "nbconvert_exporter": "python",
   "pygments_lexer": "ipython3",
   "version": "3.12.3"
  }
 },
 "nbformat": 4,
 "nbformat_minor": 5
}
