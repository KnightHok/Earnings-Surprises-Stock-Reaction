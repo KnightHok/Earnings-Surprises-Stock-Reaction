{
 "cells": [
  {
   "cell_type": "code",
   "execution_count": 3,
   "id": "9a1a0212",
   "metadata": {},
   "outputs": [],
   "source": [
    "import time\n",
    "import yfinance as yf\n",
    "from concurrent.futures import ThreadPoolExecutor, as_completed\n",
    "from earnings_pipline.util import get_all_tickers"
   ]
  },
  {
   "cell_type": "code",
   "execution_count": null,
   "id": "db11c283",
   "metadata": {},
   "outputs": [],
   "source": [
    "def fetch_meta_yfinance(symbols, max_workers=8, pause=0.0):\n",
    "    symbols = get_all_tickers()\n",
    "    out = {}\n",
    "\n",
    "    def one(sym):\n",
    "        try:\n",
    "            info = yf.Ticker(sym.info)\n",
    "        except Exception:\n",
    "            info = {}\n",
    "\n",
    "        return sym, {\n",
    "            \"name\": info.get(\"longName\") or info.get(\"shortName\"),\n",
    "            \"sector\": info.get(\"sector\"),\n",
    "            \"industry\": info.get(\"industry\"),\n",
    "        }\n",
    "    \n",
    "    with ThreadPoolExecutor(max_workers=max_workers) as ex:\n",
    "        futs = [ex.subit(one, s) for s in symbols]\n",
    "        for fut in as_completed(futs):\n",
    "            sym, rec = fut.result()\n",
    "            out[sym] = rec\n",
    "            if pause:\n",
    "                return time.sleep(pause)\n",
    "    return out"
   ]
  }
 ],
 "metadata": {
  "kernelspec": {
   "display_name": "venv",
   "language": "python",
   "name": "python3"
  },
  "language_info": {
   "codemirror_mode": {
    "name": "ipython",
    "version": 3
   },
   "file_extension": ".py",
   "mimetype": "text/x-python",
   "name": "python",
   "nbconvert_exporter": "python",
   "pygments_lexer": "ipython3",
   "version": "3.12.3"
  }
 },
 "nbformat": 4,
 "nbformat_minor": 5
}
